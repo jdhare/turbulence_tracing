{
 "cells": [
  {
   "cell_type": "code",
   "execution_count": null,
   "metadata": {},
   "outputs": [],
   "source": [
    "%matplotlib notebook\n",
    "\n",
    "import matplotlib.pyplot as plt\n",
    "import numpy as np\n",
    "\n",
    "%cd \"C:\\Users\\JHARE\\Documents\\GitHub\\turbulence_tracing\\particle_tracking\"\n",
    "import polarisation_ray_transfer_matrix as rt\n",
    "import particle_tracker as pt"
   ]
  },
  {
   "cell_type": "code",
   "execution_count": null,
   "metadata": {},
   "outputs": [],
   "source": [
    "N_V = 100\n",
    "M_V = 2*N_V+1\n",
    "ne_extent = 5.0e-3\n",
    "ne_x = np.linspace(-ne_extent,ne_extent,M_V)\n",
    "ne_y = np.linspace(-ne_extent,ne_extent,M_V)\n",
    "ne_z = np.linspace(-ne_extent,ne_extent,M_V)"
   ]
  },
  {
   "cell_type": "markdown",
   "metadata": {},
   "source": [
    "## Null\n",
    "This sets up an empty density cube with no B field. We trace rays through here to use as the background shot for Faraday."
   ]
  },
  {
   "cell_type": "code",
   "execution_count": null,
   "metadata": {},
   "outputs": [],
   "source": [
    "null = pt.ElectronCube(ne_x, ne_y, ne_z, ne_extent, B_on = True, inv_brems = False, phaseshift = False, probing_direction = 'z')\n",
    "n_e0 = 0\n",
    "null.ne = np.zeros((M_V,M_V,M_V)) + n_e0\n",
    "\n",
    "B = np.zeros((M_V,M_V,M_V,3))\n",
    "null.external_B(B)"
   ]
  },
  {
   "cell_type": "code",
   "execution_count": null,
   "metadata": {},
   "outputs": [],
   "source": [
    "null.calc_dndr()\n",
    "null.set_up_interps()\n",
    "\n",
    "## Initialise rays and solve\n",
    "N_rays = int(1e6)\n",
    "s0 = pt.init_beam(Np = N_rays, beam_size=5e-3, divergence = 0.1e-3, ne_extent = ne_extent)\n",
    "null.solve(s0)\n",
    "rf = null.rf\n",
    "\n",
    "## Plot\n",
    "fig, (ax1, ax2) = plt.subplots(1, 2, figsize=(10,4))\n",
    "nbins = 201\n",
    "\n",
    "_,_,_,im1 = ax1.hist2d(rf[0]*1e3, rf[2]*1e3, bins=(nbins, nbins), cmap=plt.cm.jet);\n",
    "plt.colorbar(im1,ax=ax1)\n",
    "ax1.set_xlabel(\"x (mm)\")\n",
    "ax1.set_ylabel(\"y (mm)\")\n",
    "_,_,_,im2 = ax2.hist2d(rf[1]*1e3, rf[3]*1e3, bins=(nbins, nbins), cmap=plt.cm.jet);\n",
    "plt.colorbar(im2,ax=ax2)\n",
    "ax2.set_xlabel(r\"$\\theta$ (mrad)\")\n",
    "ax2.set_ylabel(r\"$\\phi$ (mrad)\")\n",
    "\n",
    "fig.tight_layout()"
   ]
  },
  {
   "cell_type": "code",
   "execution_count": null,
   "metadata": {},
   "outputs": [],
   "source": [
    "null.r0 = np.zeros((6, N_rays), dtype = 'complex')\n",
    "null.r0[:4,:] = null.rf\n",
    "null.r0[4:,:] = null.Jf\n",
    "null.r0[0,:] *=1e3 #we use mm not m for the ray tracer\n",
    "null.r0[2,:] *=1e3\n",
    "\n",
    "sn = rt.Shadowgraphy(null.r0, L = 400, R = 25, object_length=5)\n",
    "sn.solve()\n",
    "sn.histogram(bin_scale = 25)\n",
    "fig, axs = plt.subplots(figsize=(6.67, 6))\n",
    "\n",
    "cm='gray'\n",
    "clim=[0,5000]\n",
    "\n",
    "sn.plot(axs, clim=clim, cmap=cm)"
   ]
  },
  {
   "cell_type": "code",
   "execution_count": null,
   "metadata": {
    "scrolled": false
   },
   "outputs": [],
   "source": [
    "β = 3\n",
    "\n",
    "f1n = rt.Faraday(null.r0, L = 400, R = 25, object_length=5)\n",
    "f1n.solve(β = β)\n",
    "f1n.histogram(bin_scale = 25)\n",
    "\n",
    "f2n = rt.Faraday(null.r0, L = 400, R = 25, object_length=5)\n",
    "f2n.solve(β = -β)\n",
    "f2n.histogram(bin_scale = 25)\n",
    "\n",
    "cm='gray'\n",
    "clim=[0,200]\n",
    "\n",
    "fig, axs = plt.subplots(1,2,figsize=(9, 4))\n",
    "f1n.plot(axs[0], clim=clim, cmap=cm)\n",
    "f2n.plot(axs[1], clim=clim, cmap=cm)"
   ]
  },
  {
   "cell_type": "markdown",
   "metadata": {},
   "source": [
    "## Density gradient, fixed B"
   ]
  },
  {
   "cell_type": "code",
   "execution_count": null,
   "metadata": {},
   "outputs": [],
   "source": [
    "slab = pt.ElectronCube(ne_x, ne_y, ne_z, ne_extent, B_on = True, inv_brems = False, phaseshift = False, probing_direction = 'z')\n",
    "slab.test_slab(s=1, n_e0=1e25)\n",
    "B = np.zeros((M_V,M_V,M_V,3)) + np.array([0,0,1])*4 # field in Z only\n",
    "slab.external_B(B)\n",
    "\n",
    "slab.calc_dndr()\n",
    "slab.set_up_interps()\n",
    "\n",
    "\n",
    "## Initialise rays and solve\n",
    "N_rays = int(1e6)\n",
    "s0 = pt.init_beam(Np = N_rays, beam_size=5e-3, divergence = 0.1e-3, ne_extent = ne_extent)\n",
    "slab.solve(s0)\n",
    "rf = slab.rf\n",
    "\n",
    "## Plot\n",
    "fig, (ax1, ax2) = plt.subplots(1, 2, figsize=(10,4))\n",
    "nbins = 201\n",
    "\n",
    "_,_,_,im1 = ax1.hist2d(rf[0]*1e3, rf[2]*1e3, bins=(nbins, nbins), cmap=plt.cm.jet);\n",
    "plt.colorbar(im1,ax=ax1)\n",
    "ax1.set_xlabel(\"x (mm)\")\n",
    "ax1.set_ylabel(\"y (mm)\")\n",
    "_,_,_,im2 = ax2.hist2d(rf[1]*1e3, rf[3]*1e3, bins=(nbins, nbins), cmap=plt.cm.jet);\n",
    "plt.colorbar(im2,ax=ax2)\n",
    "ax2.set_xlabel(r\"$\\theta$ (mrad)\")\n",
    "ax2.set_ylabel(r\"$\\phi$ (mrad)\")\n",
    "\n",
    "fig.tight_layout()"
   ]
  },
  {
   "cell_type": "code",
   "execution_count": null,
   "metadata": {},
   "outputs": [],
   "source": [
    "rf = np.zeros((6, N_rays), dtype = 'complex')\n",
    "rf[:4,:] = slab.rf\n",
    "rf[4:,:] = slab.Jf\n",
    "rf[0,:] *=1e3 #we use mm not m for the ray tracer\n",
    "rf[2,:] *=1e3"
   ]
  },
  {
   "cell_type": "code",
   "execution_count": null,
   "metadata": {},
   "outputs": [],
   "source": [
    "s = rt.Shadowgraphy(rf, L = 400, R = 25, object_length=5)\n",
    "s.solve()\n",
    "s.histogram(bin_scale = 25)\n",
    "fig, axs = plt.subplots(figsize=(6.67, 6))\n",
    "\n",
    "cm='gray'\n",
    "clim=[0,5000]\n",
    "\n",
    "s.plot(axs, clim=clim, cmap=cm)"
   ]
  },
  {
   "cell_type": "code",
   "execution_count": null,
   "metadata": {},
   "outputs": [],
   "source": [
    "β = 10\n",
    "\n",
    "f1 = rt.Faraday(rf, L = 400, R = 25, object_length=5)\n",
    "f1.solve(β = β)\n",
    "f1.histogram(bin_scale = 25)\n",
    "\n",
    "f2 = rt.Faraday(rf, L = 400, R = 25, object_length=5)\n",
    "f2.solve(β = -β)\n",
    "f2.histogram(bin_scale = 25)\n",
    "\n",
    "cm='gray'\n",
    "clim=[0,200]\n",
    "\n",
    "fig, axs = plt.subplots(1,2,figsize=(9, 4))\n",
    "f1.plot(axs[0], clim=clim, cmap=cm)\n",
    "f2.plot(axs[1], clim=clim, cmap=cm)"
   ]
  },
  {
   "cell_type": "code",
   "execution_count": null,
   "metadata": {},
   "outputs": [],
   "source": [
    "dd = 1e-6\n",
    "N1 = f1.H/(f1n.H+dd)\n",
    "N2 = f2.H/(f2n.H+dd)\n",
    "\n",
    "D = N1-N2\n",
    "α_meas = 180/np.pi* 0.5* np.arcsin(D*np.tan(β*np.pi/180/2))\n",
    "\n",
    "fig, axs = plt.subplots(figsize = (10,5))\n",
    "axs.imshow(α_meas, cmap = 'bwr')"
   ]
  },
  {
   "cell_type": "code",
   "execution_count": null,
   "metadata": {},
   "outputs": [],
   "source": [
    "B_z = slab.B[:,0,0,2]\n",
    "n_e = slab.ne[:,0,0]\n",
    "λ = 1e-6\n",
    "α_pred = -2.62e-13*λ**2*B_z*n_e*2*ne_extent *180/np.pi\n",
    "α_meas_lo = α_meas.mean(axis = 0)"
   ]
  },
  {
   "cell_type": "code",
   "execution_count": null,
   "metadata": {},
   "outputs": [],
   "source": [
    "dx = ne_x[1]-ne_x[0]\n",
    "Mag = 2\n",
    "points = (α_meas_lo.shape[0]-1)/2\n",
    "ne_x_cam = np.linspace(-Mag*dx*points, Mag*dx*points, α_meas_lo.shape[0])\n",
    "\n",
    "fig, ax = plt.subplots()\n",
    "ax.plot(ne_x, α_pred)\n",
    "ax.plot(ne_x_cam,α_meas_lo)"
   ]
  },
  {
   "cell_type": "markdown",
   "metadata": {},
   "source": [
    "## Reconnection - B only"
   ]
  },
  {
   "cell_type": "code",
   "execution_count": null,
   "metadata": {},
   "outputs": [],
   "source": [
    "B_only = pt.ElectronCube(ne_x, ne_y, ne_z, ne_extent, B_on = True, inv_brems = False, phaseshift = False, probing_direction = 'z')\n",
    "n_e0 = 1e25 \n",
    "B_only.ne = np.zeros((M_V,M_V,M_V)) + n_e0\n",
    "\n",
    "B_0 = 5\n",
    "delta = 1e-3\n",
    "B = np.zeros((M_V,M_V,M_V,3))\n",
    "B[:,:,:,2] = B_0 * np.tanh(B_only.XX/delta)\n",
    "B_only.external_B(B)"
   ]
  },
  {
   "cell_type": "code",
   "execution_count": null,
   "metadata": {},
   "outputs": [],
   "source": [
    "B_only.calc_dndr()\n",
    "B_only.set_up_interps()\n",
    "\n",
    "\n",
    "## Initialise rays and solve\n",
    "N_rays = int(1e6)\n",
    "s0 = pt.init_beam(Np = N_rays, beam_size=5e-3, divergence = 0.1e-3, ne_extent = ne_extent)\n",
    "B_only.solve(s0)\n",
    "rf = B_only.rf\n",
    "\n",
    "## Plot\n",
    "fig, (ax1, ax2) = plt.subplots(1, 2, figsize=(10,4))\n",
    "nbins = 201\n",
    "\n",
    "_,_,_,im1 = ax1.hist2d(rf[0]*1e3, rf[2]*1e3, bins=(nbins, nbins), cmap=plt.cm.jet);\n",
    "plt.colorbar(im1,ax=ax1)\n",
    "ax1.set_xlabel(\"x (mm)\")\n",
    "ax1.set_ylabel(\"y (mm)\")\n",
    "_,_,_,im2 = ax2.hist2d(rf[1]*1e3, rf[3]*1e3, bins=(nbins, nbins), cmap=plt.cm.jet);\n",
    "plt.colorbar(im2,ax=ax2)\n",
    "ax2.set_xlabel(r\"$\\theta$ (mrad)\")\n",
    "ax2.set_ylabel(r\"$\\phi$ (mrad)\")\n",
    "\n",
    "fig.tight_layout()"
   ]
  },
  {
   "cell_type": "code",
   "execution_count": null,
   "metadata": {},
   "outputs": [],
   "source": [
    "rf = np.zeros((6, N_rays), dtype = 'complex')\n",
    "rf[:4,:] = B_only.rf\n",
    "rf[4:,:] = B_only.Jf\n",
    "rf[0,:] *=1e3 #we use mm not m for the ray tracer\n",
    "rf[2,:] *=1e3\n",
    "\n",
    "s = rt.Shadowgraphy(rf, L = 400, R = 25, object_length=5)\n",
    "s.solve()\n",
    "s.histogram(bin_scale = 25)\n",
    "fig, axs = plt.subplots(figsize=(6.67, 6))\n",
    "\n",
    "cm='gray'\n",
    "clim=[0,5000]\n",
    "\n",
    "s.plot(axs, clim=clim, cmap=cm)"
   ]
  },
  {
   "cell_type": "code",
   "execution_count": null,
   "metadata": {},
   "outputs": [],
   "source": [
    "β = 10\n",
    "\n",
    "f1 = rt.Faraday(rf, L = 400, R = 25, object_length=5)\n",
    "f1.solve(β = β)\n",
    "f1.histogram(bin_scale = 25)\n",
    "\n",
    "f2 = rt.Faraday(rf, L = 400, R = 25, object_length=5)\n",
    "f2.solve(β = -β)\n",
    "f2.histogram(bin_scale = 25)\n",
    "\n",
    "cm='gray'\n",
    "clim=[0,200]\n",
    "\n",
    "fig, axs = plt.subplots(1,2,figsize=(9, 4))\n",
    "f1.plot(axs[0], clim=clim, cmap=cm)\n",
    "f2.plot(axs[1], clim=clim, cmap=cm)"
   ]
  },
  {
   "cell_type": "code",
   "execution_count": null,
   "metadata": {},
   "outputs": [],
   "source": [
    "dd = 1e-6\n",
    "N1 = f1.H/(f1n.H+dd)\n",
    "N2 = f2.H/(f2n.H+dd)\n",
    "\n",
    "D = N1-N2\n",
    "α_meas = 180/np.pi* 0.5* np.arcsin(D*np.tan(β*np.pi/180/2))\n",
    "\n",
    "fig, axs = plt.subplots(figsize = (10,5))\n",
    "axs.imshow(α_meas, cmap = 'bwr')"
   ]
  },
  {
   "cell_type": "code",
   "execution_count": null,
   "metadata": {},
   "outputs": [],
   "source": [
    "B_z = B_only.B[:,0,0,2]\n",
    "n_e = B_only.ne[:,0,0]\n",
    "λ = 1.053e-6\n",
    "α_pred = -2.62e-13*λ**2*B_z*n_e*(2*ne_extent) * (180/np.pi)\n",
    "α_meas_lo = np.nanmean(α_meas, axis = 0)"
   ]
  },
  {
   "cell_type": "code",
   "execution_count": null,
   "metadata": {},
   "outputs": [],
   "source": [
    "dx = ne_x[1]-ne_x[0]\n",
    "Mag = 2\n",
    "points = (α_meas_lo.shape[0]-1)/2\n",
    "ne_x_cam = np.linspace(-Mag*dx*points, Mag*dx*points, α_meas_lo.shape[0])\n",
    "\n",
    "fig, ax = plt.subplots()\n",
    "ax.plot(ne_x, α_pred)\n",
    "ax.plot(ne_x_cam,α_meas_lo)"
   ]
  },
  {
   "cell_type": "markdown",
   "metadata": {},
   "source": [
    "## Reconnection n_e and B"
   ]
  },
  {
   "cell_type": "code",
   "execution_count": null,
   "metadata": {},
   "outputs": [],
   "source": [
    "rec = pt.ElectronCube(ne_x, ne_y, ne_z, ne_extent, B_on = True, inv_brems = False, phaseshift = False, probing_direction = 'z')\n",
    "delta = 1e-3\n",
    "n_e0 = 1e24 \n",
    "rec.ne = n_e0 * 1/(np.tanh(rec.XX/delta)**2 + 0.1)\n",
    "\n",
    "B_0 = 5\n",
    "B = np.zeros((M_V,M_V,M_V,3))\n",
    "B[:,:,:,2] = B_0 * np.tanh(rec.XX/delta)\n",
    "rec.external_B(B)"
   ]
  },
  {
   "cell_type": "code",
   "execution_count": null,
   "metadata": {},
   "outputs": [],
   "source": [
    "rec.calc_dndr()\n",
    "rec.set_up_interps()\n",
    "\n",
    "\n",
    "## Initialise rays and solve\n",
    "N_rays = int(1e6)\n",
    "s0 = pt.init_beam(Np = N_rays, beam_size=5e-3, divergence = 0.1e-3, ne_extent = ne_extent)\n",
    "rec.solve(s0)\n",
    "rf = rec.rf\n",
    "\n",
    "## Plot\n",
    "fig, (ax1, ax2) = plt.subplots(1, 2, figsize=(10,4))\n",
    "nbins = 201\n",
    "\n",
    "_,_,_,im1 = ax1.hist2d(rf[0]*1e3, rf[2]*1e3, bins=(nbins, nbins), cmap=plt.cm.jet);\n",
    "plt.colorbar(im1,ax=ax1)\n",
    "ax1.set_xlabel(\"x (mm)\")\n",
    "ax1.set_ylabel(\"y (mm)\")\n",
    "_,_,_,im2 = ax2.hist2d(rf[1]*1e3, rf[3]*1e3, bins=(nbins, nbins), cmap=plt.cm.jet);\n",
    "plt.colorbar(im2,ax=ax2)\n",
    "ax2.set_xlabel(r\"$\\theta$ (mrad)\")\n",
    "ax2.set_ylabel(r\"$\\phi$ (mrad)\")\n",
    "\n",
    "fig.tight_layout()"
   ]
  },
  {
   "cell_type": "code",
   "execution_count": null,
   "metadata": {},
   "outputs": [],
   "source": [
    "rec.r0 = np.zeros((6, N_rays), dtype = 'complex')\n",
    "rec.r0[:4,:] = rec.rf\n",
    "rec.r0[4:,:] = rec.Jf\n",
    "rec.r0[0,:] *=1e3 #we use mm not m for the ray tracer\n",
    "rec.r0[2,:] *=1e3\n",
    "\n",
    "s = rt.Shadowgraphy(rec.r0, L = 400, R = 25, object_length=5)\n",
    "s.solve()\n",
    "s.histogram(bin_scale = 25)\n",
    "fig, axs = plt.subplots(figsize=(6.67, 6))\n",
    "\n",
    "cm='gray'\n",
    "clim=[0,5000]\n",
    "\n",
    "s.plot(axs, clim=clim, cmap=cm)"
   ]
  },
  {
   "cell_type": "code",
   "execution_count": null,
   "metadata": {},
   "outputs": [],
   "source": [
    "β = 3\n",
    "\n",
    "f1 = rt.Faraday(rec.r0, L = 400, R = 25, object_length=5)\n",
    "f1.solve(β = β)\n",
    "f1.histogram(bin_scale = 25)\n",
    "\n",
    "f2 = rt.Faraday(rec.r0, L = 400, R = 25, object_length=5)\n",
    "f2.solve(β = -β)\n",
    "f2.histogram(bin_scale = 25)\n",
    "\n",
    "cm='gray'\n",
    "clim=[0,20]\n",
    "\n",
    "fig, axs = plt.subplots(1,2,figsize=(9, 4))\n",
    "f1.plot(axs[0], clim=clim, cmap=cm)\n",
    "f2.plot(axs[1], clim=clim, cmap=cm)"
   ]
  },
  {
   "cell_type": "code",
   "execution_count": null,
   "metadata": {},
   "outputs": [],
   "source": [
    "dd = 1e-6\n",
    "N1 = f1.H/(f1n.H+dd)\n",
    "N2 = f2.H/(f2n.H+dd)\n",
    "\n",
    "D = N1-N2\n",
    "α_meas = 180/np.pi* 0.5* np.arcsin(D*np.tan(β*np.pi/180/2))\n",
    "\n",
    "fig, axs = plt.subplots(figsize = (10,5))\n",
    "axs.imshow(α_meas, cmap = 'bwr', clim = [-2,2])"
   ]
  },
  {
   "cell_type": "code",
   "execution_count": null,
   "metadata": {},
   "outputs": [],
   "source": [
    "B_z = rec.B[:,0,0,2]\n",
    "n_e = rec.ne[:,0,0]\n",
    "λ = 1.053e-6\n",
    "α_pred = -2.62e-13*λ**2*B_z*n_e*(2*ne_extent) * (180/np.pi)\n",
    "α_meas_lo = np.nanmean(α_meas, axis = 0)"
   ]
  },
  {
   "cell_type": "code",
   "execution_count": null,
   "metadata": {
    "scrolled": false
   },
   "outputs": [],
   "source": [
    "dx = ne_x[1]-ne_x[0]\n",
    "Mag = 2\n",
    "points = (α_meas_lo.shape[0]-1)/2\n",
    "ne_x_cam = np.linspace(-Mag*dx*points, Mag*dx*points, α_meas_lo.shape[0])\n",
    "\n",
    "fig, ax = plt.subplots()\n",
    "ax.plot(ne_x, α_pred)\n",
    "ax.plot(ne_x_cam,α_meas_lo)"
   ]
  },
  {
   "cell_type": "code",
   "execution_count": null,
   "metadata": {},
   "outputs": [],
   "source": [
    "n_e_interp = np.interp(ne_x_cam, ne_x, n_e)\n",
    "B_meas = 3.83e12*(α_meas_lo*np.pi/180)/(λ**2*n_e_interp*2*ne_extent)"
   ]
  },
  {
   "cell_type": "code",
   "execution_count": null,
   "metadata": {},
   "outputs": [],
   "source": [
    "fig, ax = plt.subplots()\n",
    "ax.plot(ne_x, -B_z)\n",
    "ax.plot(ne_x_cam,B_meas)"
   ]
  },
  {
   "cell_type": "code",
   "execution_count": null,
   "metadata": {},
   "outputs": [],
   "source": [
    "fig, ax = plt.subplots()\n",
    "ax.plot(ne_x, n_e)\n",
    "ax.plot(ne_x_cam,n_e_interp)"
   ]
  },
  {
   "cell_type": "markdown",
   "metadata": {},
   "source": [
    "## Turbulent density"
   ]
  },
  {
   "cell_type": "code",
   "execution_count": null,
   "metadata": {},
   "outputs": [],
   "source": [
    "%cd \"C:\\Users\\JHARE\\Documents\\GitHub\\turbulence_tracing\\gaussian_fields\"\n",
    "import turboGen as tg"
   ]
  },
  {
   "cell_type": "code",
   "execution_count": null,
   "metadata": {},
   "outputs": [],
   "source": [
    "N = 100\n",
    "def power_spectrum(k,a):\n",
    "    return k**-a\n",
    "\n",
    "def k41(k):\n",
    "    return power_spectrum(k, 11/3)        \n",
    "\n",
    "sig = tg.gaussian3D_FFT(N, k41)\n",
    "\n",
    "fig,ax=plt.subplots(3,3, figsize=(8,8), sharex=True, sharey=True)\n",
    "ax=ax.flatten()\n",
    "\n",
    "for a in ax:\n",
    "    r=np.random.randint(0,N)\n",
    "    d=sig[r,:,:]\n",
    "    a.imshow(d, cmap='bwr', extent=[-N,N,-N,N])\n",
    "    a.set_title(\"y=\"+str(r))"
   ]
  },
  {
   "cell_type": "code",
   "execution_count": null,
   "metadata": {},
   "outputs": [],
   "source": [
    "tur = pt.ElectronCube(ne_x, ne_y, ne_z, ne_extent, B_on = True, inv_brems = False, phaseshift = False, probing_direction = 'z')\n",
    "r = tur\n",
    "n_e0 = 1e25\n",
    "δn_e = 100\n",
    "r.ne = n_e0 * (1 + δn_e * sig)\n",
    "\n",
    "B_0 = 5\n",
    "B = np.zeros((M_V,M_V,M_V,3)) + np.array([0,0,1])*B_0 # field in Z only\n",
    "r.external_B(B)"
   ]
  },
  {
   "cell_type": "code",
   "execution_count": null,
   "metadata": {},
   "outputs": [],
   "source": [
    "r.calc_dndr()\n",
    "r.set_up_interps()\n",
    "\n",
    "## Initialise rays and solve\n",
    "N_rays = int(1e5)\n",
    "s0 = pt.init_beam(Np = N_rays, beam_size=5e-3, divergence = 0.1e-3, ne_extent = ne_extent)\n",
    "r.solve(s0)\n",
    "rf = r.rf\n",
    "\n",
    "## Plot\n",
    "fig, (ax1, ax2) = plt.subplots(1, 2, figsize=(10,4))\n",
    "nbins = 201\n",
    "\n",
    "_,_,_,im1 = ax1.hist2d(rf[0]*1e3, rf[2]*1e3, bins=(nbins, nbins), cmap=plt.cm.jet);\n",
    "plt.colorbar(im1,ax=ax1)\n",
    "ax1.set_xlabel(\"x (mm)\")\n",
    "ax1.set_ylabel(\"y (mm)\")\n",
    "_,_,_,im2 = ax2.hist2d(rf[1]*1e3, rf[3]*1e3, bins=(nbins, nbins), cmap=plt.cm.jet);\n",
    "plt.colorbar(im2,ax=ax2)\n",
    "ax2.set_xlabel(r\"$\\theta$ (mrad)\")\n",
    "ax2.set_ylabel(r\"$\\phi$ (mrad)\")\n",
    "\n",
    "fig.tight_layout()"
   ]
  },
  {
   "cell_type": "code",
   "execution_count": null,
   "metadata": {},
   "outputs": [],
   "source": [
    "r.r0 = np.zeros((6, N_rays), dtype = 'complex')\n",
    "r.r0[:4,:] = r.rf\n",
    "r.r0[4:,:] = r.Jf\n",
    "r.r0[0,:] *=1e3 #we use mm not m for the ray tracer\n",
    "r.r0[2,:] *=1e3\n",
    "\n",
    "s = rt.Shadowgraphy(rec.r0, L = 400, R = 25, object_length=5)\n",
    "s.solve()\n",
    "s.histogram(bin_scale = 25)\n",
    "fig, axs = plt.subplots(figsize=(6.67, 6))\n",
    "\n",
    "cm='gray'\n",
    "clim=[0,5000]\n",
    "\n",
    "s.plot(axs, clim=clim, cmap=cm)"
   ]
  },
  {
   "cell_type": "code",
   "execution_count": null,
   "metadata": {},
   "outputs": [],
   "source": [
    "β = 3\n",
    "\n",
    "f1 = rt.Faraday(r.r0, L = 400, R = 25, object_length=5)\n",
    "f1.solve(β = β)\n",
    "f1.histogram(bin_scale = 25)\n",
    "\n",
    "f2 = rt.Faraday(r.r0, L = 400, R = 25, object_length=5)\n",
    "f2.solve(β = -β)\n",
    "f2.histogram(bin_scale = 25)\n",
    "\n",
    "cm='gray'\n",
    "clim=[0,2]\n",
    "\n",
    "fig, axs = plt.subplots(1,2,figsize=(9, 4))\n",
    "f1.plot(axs[0], clim=clim, cmap=cm)\n",
    "f2.plot(axs[1], clim=clim, cmap=cm)"
   ]
  },
  {
   "cell_type": "code",
   "execution_count": null,
   "metadata": {},
   "outputs": [],
   "source": [
    "dd = 1e-6\n",
    "N1 = f1.H/(f1n.H+dd)\n",
    "N2 = f2.H/(f2n.H+dd)\n",
    "\n",
    "D = N1-N2\n",
    "α_meas = 180/np.pi* 0.5* np.arcsin(D*np.tan(β*np.pi/180/2))\n",
    "\n",
    "fig, axs = plt.subplots(figsize = (10,5))\n",
    "axs.imshow(α_meas, cmap = 'bwr', clim = [-2,2])"
   ]
  },
  {
   "cell_type": "code",
   "execution_count": null,
   "metadata": {},
   "outputs": [],
   "source": []
  }
 ],
 "metadata": {
  "kernelspec": {
   "display_name": "Python 3",
   "language": "python",
   "name": "python3"
  },
  "language_info": {
   "codemirror_mode": {
    "name": "ipython",
    "version": 3
   },
   "file_extension": ".py",
   "mimetype": "text/x-python",
   "name": "python",
   "nbconvert_exporter": "python",
   "pygments_lexer": "ipython3",
   "version": "3.7.6"
  }
 },
 "nbformat": 4,
 "nbformat_minor": 4
}
